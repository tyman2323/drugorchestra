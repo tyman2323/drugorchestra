{
 "cells": [
  {
   "cell_type": "code",
   "execution_count": 1,
   "id": "765485d8",
   "metadata": {},
   "outputs": [],
   "source": [
    "import numpy as np\n",
    "import matplotlib.pyplot as plt\n",
    "from sklearn import metrics\n",
    "from sklearn.naive_bayes import GaussianNB\n",
    "from sklearn.model_selection import KFold\n",
    "from sklearn.linear_model import LinearRegression\n",
    "from sklearn.metrics import accuracy_score, roc_auc_score, confusion_matrix\n",
    "from sklearn.metrics import mean_squared_error\n",
    "from sklearn.decomposition import PCA"
   ]
  },
  {
   "cell_type": "code",
   "execution_count": 2,
   "id": "0de9d3be",
   "metadata": {},
   "outputs": [],
   "source": [
    "stitch = np.load(\"stitch/data_900.npy\").astype(np.int32)"
   ]
  },
  {
   "cell_type": "code",
   "execution_count": 3,
   "id": "5d8d1cd6",
   "metadata": {},
   "outputs": [],
   "source": [
    "drugbank = np.load(\"drugbank/data.npy\").astype(np.int32)"
   ]
  },
  {
   "cell_type": "code",
   "execution_count": 4,
   "id": "fb1f9aa1",
   "metadata": {},
   "outputs": [],
   "source": [
    "repurposing_hub = np.load(\"repurposing_hub/data.npy\").astype(np.int32)"
   ]
  },
  {
   "cell_type": "code",
   "execution_count": 5,
   "id": "4f974e32",
   "metadata": {},
   "outputs": [],
   "source": [
    "pdx = np.load(\"pdx/data.npy\").astype(np.int32)"
   ]
  },
  {
   "cell_type": "code",
   "execution_count": 6,
   "id": "a857d467",
   "metadata": {},
   "outputs": [],
   "source": [
    "gdsc = np.load(\"gdsc/data.npy\").astype(np.int32)"
   ]
  },
  {
   "cell_type": "code",
   "execution_count": 7,
   "id": "e0200bf2",
   "metadata": {},
   "outputs": [],
   "source": [
    "ccle = np.load(\"ccle/data.npy\").astype(np.int32)"
   ]
  },
  {
   "cell_type": "code",
   "execution_count": 8,
   "id": "56e723d2",
   "metadata": {},
   "outputs": [],
   "source": [
    "sider = np.load(\"sider/data.npy\").astype(np.int32)"
   ]
  },
  {
   "cell_type": "code",
   "execution_count": 9,
   "id": "bd85ce94",
   "metadata": {},
   "outputs": [],
   "source": [
    "offside = np.load(\"offside/data.npy\").astype(np.int32)"
   ]
  },
  {
   "cell_type": "code",
   "execution_count": 10,
   "id": "d7a4dda7",
   "metadata": {},
   "outputs": [],
   "source": [
    "stitchY = stitch[:, -1] #classification"
   ]
  },
  {
   "cell_type": "code",
   "execution_count": 11,
   "id": "2f4aa301",
   "metadata": {},
   "outputs": [],
   "source": [
    "drugbankY = drugbank[:, -1] #classification"
   ]
  },
  {
   "cell_type": "code",
   "execution_count": 12,
   "id": "c4889bbc",
   "metadata": {},
   "outputs": [],
   "source": [
    "repurposing_hubY = repurposing_hub[:, -1] #classification"
   ]
  },
  {
   "cell_type": "code",
   "execution_count": 13,
   "id": "7d8b6682",
   "metadata": {},
   "outputs": [],
   "source": [
    "siderY = sider[:, -1] #classification"
   ]
  },
  {
   "cell_type": "code",
   "execution_count": 14,
   "id": "83c068e8",
   "metadata": {},
   "outputs": [],
   "source": [
    "offsideY = offside[:, -1] #classification"
   ]
  },
  {
   "cell_type": "code",
   "execution_count": 15,
   "id": "99858d06",
   "metadata": {},
   "outputs": [],
   "source": [
    "stitch = stitch[:, :-1]"
   ]
  },
  {
   "cell_type": "code",
   "execution_count": 16,
   "id": "d15cb1c0",
   "metadata": {},
   "outputs": [],
   "source": [
    "drugbank = drugbank[:, :-1]"
   ]
  },
  {
   "cell_type": "code",
   "execution_count": 17,
   "id": "796f6897",
   "metadata": {},
   "outputs": [],
   "source": [
    "repurposing_hub = repurposing_hub[:, :-1]"
   ]
  },
  {
   "cell_type": "code",
   "execution_count": 18,
   "id": "8f768619",
   "metadata": {},
   "outputs": [],
   "source": [
    "sider = sider[:, :-1]"
   ]
  },
  {
   "cell_type": "code",
   "execution_count": 19,
   "id": "62b664af",
   "metadata": {},
   "outputs": [],
   "source": [
    "offside = offside[:, :-1]"
   ]
  },
  {
   "cell_type": "code",
   "execution_count": 20,
   "id": "3bb6b59f",
   "metadata": {},
   "outputs": [],
   "source": [
    "pca1 = PCA(n_components = 50)\n",
    "stitchPCA = pca1.fit_transform(stitch)\n",
    "drugbankPCA = pca1.transform(drugbank)\n",
    "repurposing_hubPCA = pca1.transform(repurposing_hub)"
   ]
  },
  {
   "cell_type": "code",
   "execution_count": 21,
   "id": "924e9378",
   "metadata": {},
   "outputs": [],
   "source": [
    "drugTargetsY = np.concatenate((stitchY, drugbankY, repurposing_hubY), axis = 0)"
   ]
  },
  {
   "cell_type": "code",
   "execution_count": 22,
   "id": "f4a15845",
   "metadata": {},
   "outputs": [],
   "source": [
    "drugTargets = np.concatenate((np.array(stitchPCA), np.array(drugbankPCA), np.array(repurposing_hubPCA)), axis = 0)"
   ]
  },
  {
   "cell_type": "code",
   "execution_count": 23,
   "id": "5766d350",
   "metadata": {},
   "outputs": [],
   "source": [
    "pca2 = PCA(n_components = 50)\n",
    "pdxPCA = pca2.fit_transform(pdx)\n",
    "cclePCA = pca2.transform(ccle)\n",
    "gdscPCA = pca2.transform(gdsc)"
   ]
  },
  {
   "cell_type": "code",
   "execution_count": 24,
   "id": "25b91a5b",
   "metadata": {},
   "outputs": [],
   "source": [
    "drugResponse = np.concatenate((np.array(pdxPCA), np.array(cclePCA), np.array(gdscPCA)), axis = 0)"
   ]
  },
  {
   "cell_type": "code",
   "execution_count": 25,
   "id": "390e7669",
   "metadata": {},
   "outputs": [],
   "source": [
    "pca3 = PCA(n_components = 50)\n",
    "offsidePCA = pca3.fit_transform(offside)\n",
    "siderPCA = pca3.transform(sider)"
   ]
  },
  {
   "cell_type": "code",
   "execution_count": 26,
   "id": "e62424ff",
   "metadata": {},
   "outputs": [],
   "source": [
    "drugSideEffectsY = np.concatenate((siderY, offsideY), axis = 0)"
   ]
  },
  {
   "cell_type": "code",
   "execution_count": 27,
   "id": "54dfd73c",
   "metadata": {},
   "outputs": [],
   "source": [
    "drugSideEffects = np.concatenate((np.array(siderPCA), np.array(offsidePCA)), axis = 0)"
   ]
  },
  {
   "cell_type": "code",
   "execution_count": null,
   "id": "4d146bf1",
   "metadata": {},
   "outputs": [],
   "source": []
  },
  {
   "cell_type": "code",
   "execution_count": null,
   "id": "46fa2a9d",
   "metadata": {},
   "outputs": [],
   "source": []
  },
  {
   "cell_type": "code",
   "execution_count": 35,
   "id": "ed7a36a4",
   "metadata": {},
   "outputs": [],
   "source": [
    "def linearRegression(X, Z, oldMetric, n_components=2):\n",
    "    # Apply PCA to reduce dimensionality of X\n",
    "    pca = PCA(n_components=n_components)\n",
    "    X_pca = pca.fit_transform(X)  # Fit and transform PCA on X\n",
    "    \n",
    "    # Train linear regression model on PCA-reduced X\n",
    "    model = LinearRegression()\n",
    "    model.fit(X_pca, X)  # Note: We're assuming the goal is to reconstruct X from X_pca\n",
    "\n",
    "    # Apply the same PCA transformation to Z\n",
    "    pcaZ = PCA(n_components = n_components)\n",
    "    Z_pca = pcaZ.fit_transform(Z)  # Transform Z with the fitted PCA\n",
    "\n",
    "    # Predict the original higher-dimensional data of Z from its PCA-reduced version\n",
    "    Z_pred = model.predict(Z_pca)\n",
    "    \n",
    "    Z_predA = adjust_dimensions(Z, Z_pred)\n",
    "    \n",
    "    # Calculate and print the RMSE between Z and its prediction for evaluation\n",
    "    mse = mean_squared_error(Z, Z_predA)\n",
    "    gains = gain(oldMetric, mse)\n",
    "    print(f\"gain: {gains}\")"
   ]
  },
  {
   "cell_type": "code",
   "execution_count": 28,
   "id": "54f85a41",
   "metadata": {},
   "outputs": [],
   "source": [
    "def linAnalysisClass2(X, y, Z, w, oldMetric):\n",
    "    # Train the model on the entire training set\n",
    "    pca = PCA(n_components=50)\n",
    "    X_pca = pca.fit_transform(X)  # Transform the training data\n",
    "    pcaZ = PCA(n_components=50)\n",
    "    Z_pca = pcaZ.fit_transform(Z)\n",
    "    \n",
    "    model = LinearRegression()\n",
    "    model.fit(X_pca, y)\n",
    "    \n",
    "    # Predict on the test set\n",
    "    y_pred_continuous = model.predict(Z_pca)\n",
    "    \n",
    "    # Calculate AUC for the continuous predictions\n",
    "    auc = roc_auc_score(w, y_pred_continuous)\n",
    "    \n",
    "    # Convert continuous predictions to class predictions based on the mean of the predictions\n",
    "    y_pred_class = [1 if pred > np.mean(y_pred_continuous) else -1 for pred in y_pred_continuous]\n",
    "    \n",
    "    # Calculate accuracy for the class predictions\n",
    "    accuracy = accuracy_score(w, y_pred_class)\n",
    "    \n",
    "    gains = gain(oldMetric, auc)\n",
    "    \n",
    "    # Print the results\n",
    "    print(f\"Gain = {gains}\")\n",
    "    \n",
    "    # Calculate and display the confusion matrix\n",
    "    #confusion_matrix_result = confusion_matrix(w, y_pred_class)\n",
    "    #cm_display = ConfusionMatrixDisplay(confusion_matrix=confusion_matrix_result, display_labels=[False, True])\n",
    "    #cm_display.plot(cmap='viridis')\n",
    "    \n",
    "    "
   ]
  },
  {
   "cell_type": "code",
   "execution_count": 29,
   "id": "9a99c646",
   "metadata": {},
   "outputs": [],
   "source": [
    "def adjust_dimensions(Z, Z_pred):\n",
    "    if Z.shape[1] != Z_pred.shape[1]:\n",
    "        # If Z_pred has fewer features, add zeros to match Z\n",
    "        if Z_pred.shape[1] < Z.shape[1]:\n",
    "            padding = np.zeros((Z_pred.shape[0], Z.shape[1] - Z_pred.shape[1]))\n",
    "            Z_pred_adjusted = np.hstack((Z_pred, padding))\n",
    "        # If Z_pred has more features, truncate to match Z\n",
    "        else:\n",
    "            Z_pred_adjusted = Z_pred[:, :Z.shape[1]]\n",
    "    else:\n",
    "        Z_pred_adjusted = Z_pred\n",
    "    \n",
    "    return Z_pred_adjusted\n"
   ]
  },
  {
   "cell_type": "code",
   "execution_count": 30,
   "id": "ae917bac",
   "metadata": {},
   "outputs": [],
   "source": [
    "def gain(oldMetric, newMetric):\n",
    "    gains = (oldMetric - newMetric)/oldMetric\n",
    "    return gains"
   ]
  },
  {
   "cell_type": "code",
   "execution_count": 45,
   "id": "7dd0175e",
   "metadata": {},
   "outputs": [],
   "source": [
    "def linRegNormal(X, n_components=2, n_folds=3):\n",
    "    kf = KFold(n_splits=n_folds, shuffle=True, random_state=42)\n",
    "    mse_scores = []\n",
    "\n",
    "    for i, (train_index, test_index) in enumerate(kf.split(X), 1):\n",
    "        X_train, X_test = X[train_index], X[test_index]\n",
    "\n",
    "        pca = PCA(n_components=n_components)\n",
    "        X_train_pca = pca.fit_transform(X_train)\n",
    "        X_test_pca = pca.transform(X_test)\n",
    "\n",
    "        model = LinearRegression()\n",
    "        model.fit(X_train_pca, X_train)  # Assuming X_train is used as y for unsupervised learning\n",
    "\n",
    "        y_pred = model.predict(X_test_pca)\n",
    "        mse = mean_squared_error(X_test, y_pred)  # MSE between X_test and predicted values\n",
    "        mse_scores.append(mse)\n",
    "\n",
    "        print(f\"Fold {i}: MSE = {mse}\")\n",
    "        \n",
    "    avg_mse = np.mean(mse_scores)\n",
    "    print(f\"Average MSE across {n_folds} folds: {avg_mse}\")\n",
    "\n",
    "\n",
    "    return mse_scores"
   ]
  },
  {
   "cell_type": "code",
   "execution_count": 39,
   "id": "8205046e",
   "metadata": {},
   "outputs": [],
   "source": [
    "def linRegClass(X, y, n_components=2, n_folds=3):\n",
    "    kf = KFold(n_splits=n_folds, shuffle=True, random_state=42)\n",
    "    auroc_scores = []\n",
    "\n",
    "    for i, (train_index, test_index) in enumerate(kf.split(X), 1):\n",
    "        X_train, X_test = X[train_index], X[test_index]\n",
    "        y_train, y_test = y[train_index], y[test_index]\n",
    "\n",
    "        pca = PCA(n_components=n_components)\n",
    "        X_train_pca = pca.fit_transform(X_train)\n",
    "        X_test_pca = pca.transform(X_test)\n",
    "\n",
    "        model = LinearRegression()\n",
    "        model.fit(X_train_pca, y_train)\n",
    "\n",
    "        y_pred = model.predict(X_test_pca)\n",
    "\n",
    "        auroc = roc_auc_score(y_test, y_pred)\n",
    "        auroc_scores.append(auroc)\n",
    "\n",
    "        print(f\"Fold {i}: AUROC = {auroc}\")\n",
    "\n",
    "    avg_auroc = np.mean(auroc_scores)\n",
    "    print(f\"Average AUROC across {n_folds} folds: {avg_auroc}\")\n",
    "\n",
    "    return avg_auroc\n"
   ]
  },
  {
   "cell_type": "code",
   "execution_count": 40,
   "id": "b4cf560c",
   "metadata": {},
   "outputs": [
    {
     "name": "stdout",
     "output_type": "stream",
     "text": [
      "Fold 1: AUROC = 0.528551954775859\n",
      "Fold 2: AUROC = 0.5329402833244491\n",
      "Fold 3: AUROC = 0.5297121000981451\n",
      "Average AUROC across 3 folds: 0.5304014460661511\n"
     ]
    },
    {
     "data": {
      "text/plain": [
       "0.5304014460661511"
      ]
     },
     "execution_count": 40,
     "metadata": {},
     "output_type": "execute_result"
    }
   ],
   "source": [
    "linRegClass(drugTargets, drugTargetsY)"
   ]
  },
  {
   "cell_type": "code",
   "execution_count": 41,
   "id": "85b6404f",
   "metadata": {},
   "outputs": [
    {
     "name": "stdout",
     "output_type": "stream",
     "text": [
      "Fold 1: AUROC = 0.5271571516090339\n",
      "Fold 2: AUROC = 0.5249550183122819\n",
      "Fold 3: AUROC = 0.510320120732555\n",
      "Average AUROC across 3 folds: 0.5208107635512903\n"
     ]
    },
    {
     "data": {
      "text/plain": [
       "0.5208107635512903"
      ]
     },
     "execution_count": 41,
     "metadata": {},
     "output_type": "execute_result"
    }
   ],
   "source": [
    "linRegClass(drugSideEffects, drugSideEffectsY)"
   ]
  },
  {
   "cell_type": "code",
   "execution_count": 46,
   "id": "416d9eab",
   "metadata": {},
   "outputs": [
    {
     "name": "stdout",
     "output_type": "stream",
     "text": [
      "Fold 1: MSE = 0.46290900980294963\n",
      "Fold 2: MSE = 0.462357227011842\n",
      "Fold 3: MSE = 0.46248437864066455\n",
      "Average MSE across 3 folds: 0.46258353848515205\n"
     ]
    },
    {
     "data": {
      "text/plain": [
       "[0.46290900980294963, 0.462357227011842, 0.46248437864066455]"
      ]
     },
     "execution_count": 46,
     "metadata": {},
     "output_type": "execute_result"
    }
   ],
   "source": [
    "linRegNormal(drugResponse)"
   ]
  },
  {
   "cell_type": "code",
   "execution_count": 32,
   "id": "a98d0d53",
   "metadata": {},
   "outputs": [],
   "source": [
    "AStitch = 0.541\n",
    "ADrug = 0.651\n",
    "ARep = 0.653\n",
    "ASider = 0.5401\n",
    "AOff = 0.923\n",
    "\n",
    "MPDX = 0.6928\n",
    "MGDSC = 0.711\n",
    "MCCLE = 0.7081\n",
    "\n",
    "ADT = 0.5304\n",
    "ADSE = 0.5208\n",
    "MDR = 0.4626"
   ]
  },
  {
   "cell_type": "code",
   "execution_count": 33,
   "id": "0128fe23",
   "metadata": {},
   "outputs": [
    {
     "name": "stdout",
     "output_type": "stream",
     "text": [
      "Gain = 0.0864771307460889\n"
     ]
    }
   ],
   "source": [
    "linAnalysisClass2(drugTargets, drugTargetsY, drugSideEffects, drugSideEffectsY, ADSE)"
   ]
  },
  {
   "cell_type": "code",
   "execution_count": 34,
   "id": "c3b59b6e",
   "metadata": {},
   "outputs": [
    {
     "name": "stdout",
     "output_type": "stream",
     "text": [
      "Gain = 0.0948214951545776\n"
     ]
    }
   ],
   "source": [
    "linAnalysisClass2(drugSideEffects, drugSideEffectsY, drugTargets, drugTargetsY, ADT)"
   ]
  },
  {
   "cell_type": "code",
   "execution_count": 36,
   "id": "cc46aef5",
   "metadata": {},
   "outputs": [
    {
     "name": "stdout",
     "output_type": "stream",
     "text": [
      "gain: -0.09574006814426135\n"
     ]
    }
   ],
   "source": [
    "linearRegression(drugTargets, drugResponse, MDR)"
   ]
  },
  {
   "cell_type": "code",
   "execution_count": 37,
   "id": "bb66809d",
   "metadata": {},
   "outputs": [
    {
     "name": "stdout",
     "output_type": "stream",
     "text": [
      "gain: -0.11966048205567552\n"
     ]
    }
   ],
   "source": [
    "linearRegression(drugSideEffects, drugResponse, MDR)"
   ]
  },
  {
   "cell_type": "code",
   "execution_count": 38,
   "id": "81264c03",
   "metadata": {},
   "outputs": [
    {
     "name": "stdout",
     "output_type": "stream",
     "text": [
      "gain: -1.0374886626404949\n"
     ]
    }
   ],
   "source": [
    "linearRegression(drugResponse, drugSideEffects, ADSE)"
   ]
  },
  {
   "cell_type": "code",
   "execution_count": 39,
   "id": "89e835c5",
   "metadata": {},
   "outputs": [
    {
     "name": "stdout",
     "output_type": "stream",
     "text": [
      "gain: 0.989898228345489\n"
     ]
    }
   ],
   "source": [
    "linearRegression(drugResponse, drugTargets, ADT)"
   ]
  },
  {
   "cell_type": "code",
   "execution_count": null,
   "id": "9036747d",
   "metadata": {},
   "outputs": [],
   "source": [
    "linAnalysisClass2(stitch, stitchY, drugbank, drugbankY, ADrug)"
   ]
  },
  {
   "cell_type": "code",
   "execution_count": 25,
   "id": "963ceb0d",
   "metadata": {},
   "outputs": [
    {
     "name": "stdout",
     "output_type": "stream",
     "text": [
      "Gain = 0.2411248627749035\n"
     ]
    }
   ],
   "source": [
    "linAnalysisClass2(stitch, stitchY, repurposing_hub, repurposing_hubY, ARep)"
   ]
  },
  {
   "cell_type": "code",
   "execution_count": 46,
   "id": "0ad177dd",
   "metadata": {},
   "outputs": [
    {
     "name": "stdout",
     "output_type": "stream",
     "text": [
      "gain: 0.6126867359251321\n"
     ]
    }
   ],
   "source": [
    "linearRegression(stitch, pdx, MPDX)"
   ]
  },
  {
   "cell_type": "code",
   "execution_count": 47,
   "id": "15ff7284",
   "metadata": {},
   "outputs": [
    {
     "name": "stdout",
     "output_type": "stream",
     "text": [
      "gain: 0.6195811343893053\n"
     ]
    }
   ],
   "source": [
    "linearRegression(stitch, gdsc, MGDSC)"
   ]
  },
  {
   "cell_type": "code",
   "execution_count": 48,
   "id": "963610d6",
   "metadata": {},
   "outputs": [
    {
     "name": "stdout",
     "output_type": "stream",
     "text": [
      "gain: 0.6189910106443999\n"
     ]
    }
   ],
   "source": [
    "linearRegression(stitch, ccle, MCCLE)"
   ]
  },
  {
   "cell_type": "code",
   "execution_count": 24,
   "id": "842e2402",
   "metadata": {},
   "outputs": [
    {
     "name": "stdout",
     "output_type": "stream",
     "text": [
      "Gain = 0.029596435641812874\n"
     ]
    }
   ],
   "source": [
    "linAnalysisClass2(stitch, stitchY, sider, siderY, ASider)"
   ]
  },
  {
   "cell_type": "code",
   "execution_count": 25,
   "id": "452948b5",
   "metadata": {},
   "outputs": [
    {
     "name": "stdout",
     "output_type": "stream",
     "text": [
      "Gain = 0.45982710377955127\n"
     ]
    }
   ],
   "source": [
    "linAnalysisClass2(stitch, stitchY, offside, offsideY, AOff)"
   ]
  },
  {
   "cell_type": "code",
   "execution_count": 26,
   "id": "f56b32e6",
   "metadata": {},
   "outputs": [
    {
     "name": "stdout",
     "output_type": "stream",
     "text": [
      "Gain = 0.111102834906391\n"
     ]
    }
   ],
   "source": [
    "linAnalysisClass2(drugbank, drugbankY, stitch, stitchY, AStitch)"
   ]
  },
  {
   "cell_type": "code",
   "execution_count": 27,
   "id": "c9abc92e",
   "metadata": {},
   "outputs": [
    {
     "name": "stdout",
     "output_type": "stream",
     "text": [
      "Gain = 0.2537334190997533\n"
     ]
    }
   ],
   "source": [
    "linAnalysisClass2(drugbank, drugbankY, repurposing_hub, repurposing_hubY, ARep)"
   ]
  },
  {
   "cell_type": "code",
   "execution_count": 49,
   "id": "7affe600",
   "metadata": {},
   "outputs": [
    {
     "name": "stdout",
     "output_type": "stream",
     "text": [
      "gain: 0.6129736986758029\n"
     ]
    }
   ],
   "source": [
    "linearRegression(drugbank, pdx, MPDX)"
   ]
  },
  {
   "cell_type": "code",
   "execution_count": 50,
   "id": "c979a693",
   "metadata": {},
   "outputs": [
    {
     "name": "stdout",
     "output_type": "stream",
     "text": [
      "gain: 0.6197703212878195\n"
     ]
    }
   ],
   "source": [
    "linearRegression(drugbank, gdsc, MGDSC)"
   ]
  },
  {
   "cell_type": "code",
   "execution_count": 51,
   "id": "d70c63f7",
   "metadata": {},
   "outputs": [
    {
     "name": "stdout",
     "output_type": "stream",
     "text": [
      "gain: 0.6185341356119249\n"
     ]
    }
   ],
   "source": [
    "linearRegression(drugbank, ccle, MCCLE)"
   ]
  },
  {
   "cell_type": "code",
   "execution_count": 28,
   "id": "cc072ea7",
   "metadata": {},
   "outputs": [
    {
     "name": "stdout",
     "output_type": "stream",
     "text": [
      "Gain = 0.05776429657161896\n"
     ]
    }
   ],
   "source": [
    "linAnalysisClass2(drugbank, drugbankY, sider, siderY, ASider)"
   ]
  },
  {
   "cell_type": "code",
   "execution_count": 29,
   "id": "8ff10bf3",
   "metadata": {},
   "outputs": [
    {
     "name": "stdout",
     "output_type": "stream",
     "text": [
      "Gain = 0.4627884192593452\n"
     ]
    }
   ],
   "source": [
    "linAnalysisClass2(drugbank, drugbankY, offside, offsideY, AOff)"
   ]
  },
  {
   "cell_type": "code",
   "execution_count": 30,
   "id": "7184806f",
   "metadata": {},
   "outputs": [
    {
     "name": "stdout",
     "output_type": "stream",
     "text": [
      "Gain = 0.07751547746990523\n"
     ]
    }
   ],
   "source": [
    "linAnalysisClass2(repurposing_hub, repurposing_hubY, stitch, stitchY, AStitch)"
   ]
  },
  {
   "cell_type": "code",
   "execution_count": 31,
   "id": "135c8cb2",
   "metadata": {},
   "outputs": [
    {
     "name": "stdout",
     "output_type": "stream",
     "text": [
      "Gain = 0.2969895955329035\n"
     ]
    }
   ],
   "source": [
    "linAnalysisClass2(repurposing_hub, repurposing_hubY, drugbank, drugbankY, ADrug)"
   ]
  },
  {
   "cell_type": "code",
   "execution_count": 52,
   "id": "6ecbd247",
   "metadata": {},
   "outputs": [
    {
     "name": "stdout",
     "output_type": "stream",
     "text": [
      "gain: 0.6145882249586487\n"
     ]
    }
   ],
   "source": [
    "linearRegression(repurposing_hub, pdx, MPDX)"
   ]
  },
  {
   "cell_type": "code",
   "execution_count": 53,
   "id": "e15e6337",
   "metadata": {},
   "outputs": [
    {
     "name": "stdout",
     "output_type": "stream",
     "text": [
      "gain: 0.6198873825996124\n"
     ]
    }
   ],
   "source": [
    "linearRegression(repurposing_hub, gdsc, MGDSC)"
   ]
  },
  {
   "cell_type": "code",
   "execution_count": 54,
   "id": "66b94222",
   "metadata": {},
   "outputs": [
    {
     "name": "stdout",
     "output_type": "stream",
     "text": [
      "gain: 0.6189845277360111\n"
     ]
    }
   ],
   "source": [
    "linearRegression(repurposing_hub, ccle, MCCLE)"
   ]
  },
  {
   "cell_type": "code",
   "execution_count": 32,
   "id": "efc03501",
   "metadata": {},
   "outputs": [
    {
     "name": "stdout",
     "output_type": "stream",
     "text": [
      "Gain = 0.1331362982532458\n"
     ]
    }
   ],
   "source": [
    "linAnalysisClass2(repurposing_hub, repurposing_hubY, sider, siderY, ASider)"
   ]
  },
  {
   "cell_type": "code",
   "execution_count": 33,
   "id": "b48b9c9a",
   "metadata": {},
   "outputs": [
    {
     "name": "stdout",
     "output_type": "stream",
     "text": [
      "Gain = 0.4566464145527701\n"
     ]
    }
   ],
   "source": [
    "linAnalysisClass2(repurposing_hub, repurposing_hubY, offside, offsideY, AOff)"
   ]
  },
  {
   "cell_type": "code",
   "execution_count": 55,
   "id": "6488254e",
   "metadata": {},
   "outputs": [
    {
     "name": "stdout",
     "output_type": "stream",
     "text": [
      "gain: 0.9745582999583898\n"
     ]
    }
   ],
   "source": [
    "linearRegression(pdx, stitch, AStitch)"
   ]
  },
  {
   "cell_type": "code",
   "execution_count": 56,
   "id": "c4913328",
   "metadata": {},
   "outputs": [
    {
     "name": "stdout",
     "output_type": "stream",
     "text": [
      "gain: 0.9788235917738247\n"
     ]
    }
   ],
   "source": [
    "linearRegression(pdx, drugbank, ADrug)"
   ]
  },
  {
   "cell_type": "code",
   "execution_count": 29,
   "id": "0c58f367",
   "metadata": {},
   "outputs": [
    {
     "name": "stdout",
     "output_type": "stream",
     "text": [
      "gain: 0.9789023722099702\n"
     ]
    }
   ],
   "source": [
    "linearRegression(pdx, repurposing_hub, ARep)"
   ]
  },
  {
   "cell_type": "code",
   "execution_count": 25,
   "id": "105d73e4",
   "metadata": {},
   "outputs": [
    {
     "name": "stdout",
     "output_type": "stream",
     "text": [
      "gain: 0.6593917076247345\n"
     ]
    }
   ],
   "source": [
    "linearRegression(pdx, gdsc, MGDSC)"
   ]
  },
  {
   "cell_type": "code",
   "execution_count": 18,
   "id": "eb159ce7",
   "metadata": {},
   "outputs": [
    {
     "name": "stdout",
     "output_type": "stream",
     "text": [
      "gain: 0.6512200665441348\n"
     ]
    }
   ],
   "source": [
    "linearRegression(pdx, ccle, MCCLE)"
   ]
  },
  {
   "cell_type": "code",
   "execution_count": 30,
   "id": "4563a177",
   "metadata": {},
   "outputs": [
    {
     "name": "stdout",
     "output_type": "stream",
     "text": [
      "gain: 0.3729041533296005\n"
     ]
    }
   ],
   "source": [
    "linearRegression(pdx, sider, ASider)"
   ]
  },
  {
   "cell_type": "code",
   "execution_count": 31,
   "id": "dfd459f2",
   "metadata": {},
   "outputs": [
    {
     "name": "stdout",
     "output_type": "stream",
     "text": [
      "gain: 0.6322559313783346\n"
     ]
    }
   ],
   "source": [
    "linearRegression(pdx, offside, AOff)"
   ]
  },
  {
   "cell_type": "code",
   "execution_count": 32,
   "id": "0706c43b",
   "metadata": {},
   "outputs": [
    {
     "name": "stdout",
     "output_type": "stream",
     "text": [
      "gain: 0.9747383276826829\n"
     ]
    }
   ],
   "source": [
    "linearRegression(gdsc, stitch, AStitch)"
   ]
  },
  {
   "cell_type": "code",
   "execution_count": 33,
   "id": "ed3f4159",
   "metadata": {},
   "outputs": [
    {
     "name": "stdout",
     "output_type": "stream",
     "text": [
      "gain: 0.9789837689562725\n"
     ]
    }
   ],
   "source": [
    "linearRegression(gdsc, drugbank, ADrug)"
   ]
  },
  {
   "cell_type": "code",
   "execution_count": 34,
   "id": "74aecfef",
   "metadata": {},
   "outputs": [
    {
     "name": "stdout",
     "output_type": "stream",
     "text": [
      "gain: 0.9790575737004116\n"
     ]
    }
   ],
   "source": [
    "linearRegression(gdsc, repurposing_hub, ARep)"
   ]
  },
  {
   "cell_type": "code",
   "execution_count": 15,
   "id": "934a7cbb",
   "metadata": {},
   "outputs": [
    {
     "name": "stdout",
     "output_type": "stream",
     "text": [
      "gain: 0.6455089433722532\n"
     ]
    }
   ],
   "source": [
    "linearRegression(gdsc, pdx, MPDX)"
   ]
  },
  {
   "cell_type": "code",
   "execution_count": 35,
   "id": "a8413a87",
   "metadata": {},
   "outputs": [
    {
     "name": "stdout",
     "output_type": "stream",
     "text": [
      "gain: 0.6532040979857425\n"
     ]
    }
   ],
   "source": [
    "linearRegression(gdsc, ccle, MCCLE)"
   ]
  },
  {
   "cell_type": "code",
   "execution_count": 36,
   "id": "5deea7d3",
   "metadata": {},
   "outputs": [
    {
     "name": "stdout",
     "output_type": "stream",
     "text": [
      "gain: 0.3742610587159729\n"
     ]
    }
   ],
   "source": [
    "linearRegression(gdsc, sider, ASider)"
   ]
  },
  {
   "cell_type": "code",
   "execution_count": 37,
   "id": "93c6b224",
   "metadata": {},
   "outputs": [
    {
     "name": "stdout",
     "output_type": "stream",
     "text": [
      "gain: 0.632955516762619\n"
     ]
    }
   ],
   "source": [
    "linearRegression(gdsc, offside, AOff)"
   ]
  },
  {
   "cell_type": "code",
   "execution_count": 38,
   "id": "3bd7e22f",
   "metadata": {},
   "outputs": [
    {
     "name": "stdout",
     "output_type": "stream",
     "text": [
      "gain: 0.9752717116189489\n"
     ]
    }
   ],
   "source": [
    "linearRegression(ccle, stitch, AStitch)"
   ]
  },
  {
   "cell_type": "code",
   "execution_count": 39,
   "id": "8c480c3e",
   "metadata": {},
   "outputs": [
    {
     "name": "stdout",
     "output_type": "stream",
     "text": [
      "gain: 0.9794167369220912\n"
     ]
    }
   ],
   "source": [
    "linearRegression(ccle, drugbank, ADrug)"
   ]
  },
  {
   "cell_type": "code",
   "execution_count": 40,
   "id": "f0f4bcf6",
   "metadata": {},
   "outputs": [
    {
     "name": "stdout",
     "output_type": "stream",
     "text": [
      "gain: 0.9794860131685212\n"
     ]
    }
   ],
   "source": [
    "linearRegression(ccle, repurposing_hub, ARep)"
   ]
  },
  {
   "cell_type": "code",
   "execution_count": 41,
   "id": "614d2ef2",
   "metadata": {},
   "outputs": [
    {
     "name": "stdout",
     "output_type": "stream",
     "text": [
      "gain: 0.64668695525931\n"
     ]
    }
   ],
   "source": [
    "linearRegression(ccle, pdx, MPDX)"
   ]
  },
  {
   "cell_type": "code",
   "execution_count": 42,
   "id": "e61fdae4",
   "metadata": {},
   "outputs": [
    {
     "name": "stdout",
     "output_type": "stream",
     "text": [
      "gain: 0.6545268299078072\n"
     ]
    }
   ],
   "source": [
    "linearRegression(ccle, gdsc, MGDSC)"
   ]
  },
  {
   "cell_type": "code",
   "execution_count": 43,
   "id": "ff63ac99",
   "metadata": {},
   "outputs": [
    {
     "name": "stdout",
     "output_type": "stream",
     "text": [
      "gain: 0.37303519831226173\n"
     ]
    }
   ],
   "source": [
    "linearRegression(ccle, sider, ASider)"
   ]
  },
  {
   "cell_type": "code",
   "execution_count": 44,
   "id": "db52d05e",
   "metadata": {},
   "outputs": [
    {
     "name": "stdout",
     "output_type": "stream",
     "text": [
      "gain: 0.6326848071294903\n"
     ]
    }
   ],
   "source": [
    "linearRegression(gdsc, offside, AOff)"
   ]
  },
  {
   "cell_type": "code",
   "execution_count": 45,
   "id": "e11b80f8",
   "metadata": {},
   "outputs": [
    {
     "name": "stdout",
     "output_type": "stream",
     "text": [
      "Gain = 0.061859830468028815\n"
     ]
    }
   ],
   "source": [
    "linAnalysisClass2(sider, siderY, stitch, stitchY, AStitch)"
   ]
  },
  {
   "cell_type": "code",
   "execution_count": 35,
   "id": "ebe49b02",
   "metadata": {},
   "outputs": [
    {
     "name": "stdout",
     "output_type": "stream",
     "text": [
      "Gain = 0.2772035790315484\n"
     ]
    }
   ],
   "source": [
    "linAnalysisClass2(sider, siderY, drugbank, drugbankY, ADrug)"
   ]
  },
  {
   "cell_type": "code",
   "execution_count": 36,
   "id": "c6304d29",
   "metadata": {},
   "outputs": [
    {
     "name": "stdout",
     "output_type": "stream",
     "text": [
      "Gain = 0.2157202335122307\n"
     ]
    }
   ],
   "source": [
    "linAnalysisClass2(sider, siderY, repurposing_hub, repurposing_hubY, ARep)"
   ]
  },
  {
   "cell_type": "code",
   "execution_count": 57,
   "id": "71472b77",
   "metadata": {},
   "outputs": [
    {
     "name": "stdout",
     "output_type": "stream",
     "text": [
      "gain: 0.6462446926222434\n"
     ]
    }
   ],
   "source": [
    "linearRegression(sider, pdx, MPDX)"
   ]
  },
  {
   "cell_type": "code",
   "execution_count": 58,
   "id": "ce9091f1",
   "metadata": {},
   "outputs": [
    {
     "name": "stdout",
     "output_type": "stream",
     "text": [
      "gain: 0.6541130347842451\n"
     ]
    }
   ],
   "source": [
    "linearRegression(sider, gdsc, MGDSC)"
   ]
  },
  {
   "cell_type": "code",
   "execution_count": 59,
   "id": "fd72963d",
   "metadata": {},
   "outputs": [
    {
     "name": "stdout",
     "output_type": "stream",
     "text": [
      "gain: 0.6531364577463494\n"
     ]
    }
   ],
   "source": [
    "linearRegression(sider, ccle, MCCLE)"
   ]
  },
  {
   "cell_type": "code",
   "execution_count": 37,
   "id": "c3cb4da5",
   "metadata": {},
   "outputs": [
    {
     "name": "stdout",
     "output_type": "stream",
     "text": [
      "Gain = 0.45125755496434766\n"
     ]
    }
   ],
   "source": [
    "linAnalysisClass2(sider, siderY, offside, offsideY, AOff)"
   ]
  },
  {
   "cell_type": "code",
   "execution_count": 38,
   "id": "1b344018",
   "metadata": {},
   "outputs": [
    {
     "name": "stdout",
     "output_type": "stream",
     "text": [
      "Gain = 0.10084942317372886\n"
     ]
    }
   ],
   "source": [
    "linAnalysisClass2(offside, offsideY, stitch, stitchY, AStitch)"
   ]
  },
  {
   "cell_type": "code",
   "execution_count": 39,
   "id": "aad30222",
   "metadata": {},
   "outputs": [
    {
     "name": "stdout",
     "output_type": "stream",
     "text": [
      "Gain = 0.2797650844810367\n"
     ]
    }
   ],
   "source": [
    "linAnalysisClass2(offside, offsideY, drugbank, drugbankY, ADrug)"
   ]
  },
  {
   "cell_type": "code",
   "execution_count": 40,
   "id": "1ebf8b57",
   "metadata": {},
   "outputs": [
    {
     "name": "stdout",
     "output_type": "stream",
     "text": [
      "Gain = 0.21174666200132236\n"
     ]
    }
   ],
   "source": [
    "linAnalysisClass2(offside, offsideY, repurposing_hub, repurposing_hubY, ARep)"
   ]
  },
  {
   "cell_type": "code",
   "execution_count": 60,
   "id": "8c0fcb56",
   "metadata": {},
   "outputs": [
    {
     "name": "stdout",
     "output_type": "stream",
     "text": [
      "gain: 0.6467661979899578\n"
     ]
    }
   ],
   "source": [
    "linearRegression(offside, pdx, MPDX)"
   ]
  },
  {
   "cell_type": "code",
   "execution_count": 61,
   "id": "4206fb18",
   "metadata": {},
   "outputs": [
    {
     "name": "stdout",
     "output_type": "stream",
     "text": [
      "gain: 0.6534859867494103\n"
     ]
    }
   ],
   "source": [
    "linearRegression(offside, gdsc, MGDSC)"
   ]
  },
  {
   "cell_type": "code",
   "execution_count": 62,
   "id": "35465914",
   "metadata": {},
   "outputs": [
    {
     "name": "stdout",
     "output_type": "stream",
     "text": [
      "gain: 0.6529373318023147\n"
     ]
    }
   ],
   "source": [
    "linearRegression(offside, ccle, MCCLE)"
   ]
  },
  {
   "cell_type": "code",
   "execution_count": 41,
   "id": "175cb81a",
   "metadata": {},
   "outputs": [
    {
     "name": "stdout",
     "output_type": "stream",
     "text": [
      "Gain = 0.053309426667882576\n"
     ]
    }
   ],
   "source": [
    "linAnalysisClass2(offside, offsideY, sider, siderY, ASider)"
   ]
  }
 ],
 "metadata": {
  "kernelspec": {
   "display_name": "Python 3 (ipykernel)",
   "language": "python",
   "name": "python3"
  },
  "language_info": {
   "codemirror_mode": {
    "name": "ipython",
    "version": 3
   },
   "file_extension": ".py",
   "mimetype": "text/x-python",
   "name": "python",
   "nbconvert_exporter": "python",
   "pygments_lexer": "ipython3",
   "version": "3.11.4"
  }
 },
 "nbformat": 4,
 "nbformat_minor": 5
}
